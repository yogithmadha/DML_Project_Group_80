{
 "cells": [
  {
   "cell_type": "markdown",
   "metadata": {
    "deletable": false,
    "editable": false,
    "nbgrader": {
     "cell_type": "markdown",
     "checksum": "20a4d65ee77906a86bc39bc4046a2a36",
     "grade": false,
     "grade_id": "cell-5690119ead85e67e",
     "locked": true,
     "schema_version": 3,
     "solution": false,
     "task": false
    }
   },
   "source": [
    "### Checklist for submission\n",
    "\n",
    "It is extremely important to make sure that:\n",
    "\n",
    "1. Everything runs as expected (no bugs when running cells);\n",
    "2. The output from each cell corresponds to its code (don't change any cell's contents without rerunning it afterwards);\n",
    "3. All outputs are present (don't delete any of the outputs);\n",
    "4. Fill in all the places that say `# YOUR CODE HERE`, or \"**Your answer:** (fill in here)\".\n",
    "5. Never copy/paste any notebook cells. Inserting new cells is allowed, but it should not be necessary.\n",
    "6. The notebook contains some hidden metadata which is important during our grading process. **Make sure not to corrupt any of this metadata!** The metadata may for example be corrupted if you copy/paste any notebook cells, or if you perform an unsuccessful git merge / git pull. It may also be pruned completely if using Google Colab, so watch out for this. Searching for \"nbgrader\" when opening the notebook in a text editor should take you to the important metadata entries.\n",
    "7. Although we will try our very best to avoid this, it may happen that bugs are found after an assignment is released, and that we will push an updated version of the assignment to GitHub. If this happens, it is important that you update to the new version, while making sure the notebook metadata is properly updated as well. The safest way to make sure nothing gets messed up is to start from scratch on a clean updated version of the notebook, copy/pasting your code from the cells of the previous version into the cells of the new version.\n",
    "8. If you need to have multiple parallel versions of this notebook, make sure not to move them to another directory.\n",
    "9. Although not forced to work exclusively in the course `conda` environment, you need to make sure that the notebook will run in that environment, i.e. that you have not added any additional dependencies.\n",
    "\n",
    "**FOR HA1, HA2, HA3 ONLY:** Failing to meet any of these requirements might lead to either a subtraction of POEs (at best) or a request for resubmission (at worst).\n",
    "\n",
    "We advise you to perform the following steps before submission to ensure that requirements 1, 2, and 3 are always met: **Restart the kernel** (in the menubar, select Kernel$\\rightarrow$Restart) and then **run all cells** (in the menubar, select Cell$\\rightarrow$Run All). This might require a bit of time, so plan ahead for this (and possibly use a cloud GPU in HA1 and HA2 for this step). Finally press the \"Save and Checkout\" button before handing in, to make sure that all your changes are saved to this .ipynb file."
   ]
  },
  {
   "cell_type": "markdown",
   "metadata": {
    "deletable": false,
    "editable": false,
    "nbgrader": {
     "cell_type": "markdown",
     "checksum": "a6bb874a16c1ff767ac0f37ce0491265",
     "grade": false,
     "grade_id": "cell-774c93bf6433de68",
     "locked": true,
     "schema_version": 3,
     "solution": false,
     "task": false
    }
   },
   "source": [
    "### Fill in name of notebook file\n",
    "This might seem silly, but the version check below needs to know the filename of the current notebook, which is not trivial to find out programmatically.\n",
    "\n",
    "You might want to have several parallel versions of the notebook, and it is fine to rename the notebook as long as it stays in the same directory. **However**, if you do rename it, you also need to update its own filename below:"
   ]
  },
  {
   "cell_type": "code",
   "execution_count": 1,
   "metadata": {},
   "outputs": [],
   "source": [
    "nb_fname = \"create_project_notebook_structure.ipynb\""
   ]
  },
  {
   "cell_type": "markdown",
   "metadata": {
    "deletable": false,
    "editable": false,
    "nbgrader": {
     "cell_type": "markdown",
     "checksum": "879883c2ea755808ffd00aeee5c77a00",
     "grade": false,
     "grade_id": "cell-5676bcf768a7f9be",
     "locked": true,
     "schema_version": 3,
     "solution": false,
     "task": false
    }
   },
   "source": [
    "### Fill in group number and member names (use NAME2 and GROUP only for HA1, HA2 and HA3):"
   ]
  },
  {
   "cell_type": "code",
   "execution_count": 2,
   "metadata": {},
   "outputs": [],
   "source": [
    "NAME1 = \"\" \n",
    "NAME2 = \"\"\n",
    "GROUP = \"\""
   ]
  },
  {
   "cell_type": "markdown",
   "metadata": {
    "deletable": false,
    "editable": false,
    "nbgrader": {
     "cell_type": "markdown",
     "checksum": "42f960a95815e1aa3ce8132fcec59cd9",
     "grade": false,
     "grade_id": "cell-a15fe781533d9590",
     "locked": true,
     "schema_version": 3,
     "solution": false,
     "task": false
    }
   },
   "source": [
    "### Check Python version"
   ]
  },
  {
   "cell_type": "code",
   "execution_count": 3,
   "metadata": {
    "deletable": false,
    "editable": false,
    "nbgrader": {
     "cell_type": "code",
     "checksum": "736e393ef62f60d5e70432726e7209e0",
     "grade": false,
     "grade_id": "cell-2b9c2390ee464c39",
     "locked": true,
     "schema_version": 3,
     "solution": false,
     "task": false
    }
   },
   "outputs": [],
   "source": [
    "from platform import python_version_tuple\n",
    "assert python_version_tuple()[:2] == ('3','9'), \"You are not running Python 3.9. Make sure to run Python through the course Conda environment.\""
   ]
  },
  {
   "cell_type": "markdown",
   "metadata": {
    "deletable": false,
    "editable": false,
    "nbgrader": {
     "cell_type": "markdown",
     "checksum": "15ec4309f1e85f6e17bda73b9b6f48a2",
     "grade": false,
     "grade_id": "cell-4869b45600ce82f8",
     "locked": true,
     "schema_version": 3,
     "solution": false,
     "task": false
    }
   },
   "source": [
    "### Check that notebook server has access to all required resources, and that notebook has not moved"
   ]
  },
  {
   "cell_type": "code",
   "execution_count": 4,
   "metadata": {
    "deletable": false,
    "editable": false,
    "nbgrader": {
     "cell_type": "code",
     "checksum": "a2d199303c73ec86d25177caf39e385f",
     "grade": false,
     "grade_id": "cell-122ac3d9100b8afb",
     "locked": true,
     "schema_version": 3,
     "solution": false,
     "task": false
    }
   },
   "outputs": [
    {
     "ename": "AssertionError",
     "evalue": "[ERROR] The notebook appears to have been moved from its original directory",
     "output_type": "error",
     "traceback": [
      "\u001b[1;31m---------------------------------------------------------------------------\u001b[0m",
      "\u001b[1;31mAssertionError\u001b[0m                            Traceback (most recent call last)",
      "\u001b[1;32mc:\\Users\\Yogith\\OneDrive - Chalmers\\MSc System Controls & Mechatronics\\Study Period-5\\SSY340\\Project\\SemanticSegmentation\\create_project_notebook_structure.ipynb Cell 9\u001b[0m line \u001b[0;36m4\n\u001b[0;32m      <a href='vscode-notebook-cell:/c%3A/Users/Yogith/OneDrive%20-%20Chalmers/MSc%20System%20Controls%20%26%20Mechatronics/Study%20Period-5/SSY340/Project/SemanticSegmentation/create_project_notebook_structure.ipynb#X11sZmlsZQ%3D%3D?line=1'>2</a>\u001b[0m nb_dirname \u001b[39m=\u001b[39m os\u001b[39m.\u001b[39mpath\u001b[39m.\u001b[39mabspath(\u001b[39m'\u001b[39m\u001b[39m'\u001b[39m)\n\u001b[0;32m      <a href='vscode-notebook-cell:/c%3A/Users/Yogith/OneDrive%20-%20Chalmers/MSc%20System%20Controls%20%26%20Mechatronics/Study%20Period-5/SSY340/Project/SemanticSegmentation/create_project_notebook_structure.ipynb#X11sZmlsZQ%3D%3D?line=2'>3</a>\u001b[0m assignment_name \u001b[39m=\u001b[39m os\u001b[39m.\u001b[39mpath\u001b[39m.\u001b[39mbasename(nb_dirname)\n\u001b[1;32m----> <a href='vscode-notebook-cell:/c%3A/Users/Yogith/OneDrive%20-%20Chalmers/MSc%20System%20Controls%20%26%20Mechatronics/Study%20Period-5/SSY340/Project/SemanticSegmentation/create_project_notebook_structure.ipynb#X11sZmlsZQ%3D%3D?line=3'>4</a>\u001b[0m \u001b[39massert\u001b[39;00m assignment_name \u001b[39min\u001b[39;00m [\u001b[39m'\u001b[39m\u001b[39mIHA1\u001b[39m\u001b[39m'\u001b[39m, \u001b[39m'\u001b[39m\u001b[39mIHA2\u001b[39m\u001b[39m'\u001b[39m, \u001b[39m'\u001b[39m\u001b[39mHA1\u001b[39m\u001b[39m'\u001b[39m, \u001b[39m'\u001b[39m\u001b[39mHA2\u001b[39m\u001b[39m'\u001b[39m, \u001b[39m'\u001b[39m\u001b[39mHA3\u001b[39m\u001b[39m'\u001b[39m], \\\n\u001b[0;32m      <a href='vscode-notebook-cell:/c%3A/Users/Yogith/OneDrive%20-%20Chalmers/MSc%20System%20Controls%20%26%20Mechatronics/Study%20Period-5/SSY340/Project/SemanticSegmentation/create_project_notebook_structure.ipynb#X11sZmlsZQ%3D%3D?line=4'>5</a>\u001b[0m     \u001b[39m'\u001b[39m\u001b[39m[ERROR] The notebook appears to have been moved from its original directory\u001b[39m\u001b[39m'\u001b[39m\n",
      "\u001b[1;31mAssertionError\u001b[0m: [ERROR] The notebook appears to have been moved from its original directory"
     ]
    }
   ],
   "source": [
    "import os\n",
    "nb_dirname = os.path.abspath('')\n",
    "assignment_name = os.path.basename(nb_dirname)\n",
    "assert assignment_name in ['IHA1', 'IHA2', 'HA1', 'HA2', 'HA3'], \\\n",
    "    '[ERROR] The notebook appears to have been moved from its original directory'"
   ]
  },
  {
   "cell_type": "markdown",
   "metadata": {
    "deletable": false,
    "editable": false,
    "nbgrader": {
     "cell_type": "markdown",
     "checksum": "f09f40b5350db83232189137c550f0a1",
     "grade": false,
     "grade_id": "cell-2455deee513cd39c",
     "locked": true,
     "schema_version": 3,
     "solution": false,
     "task": false
    }
   },
   "source": [
    "### Verify correct nb_fname"
   ]
  },
  {
   "cell_type": "code",
   "execution_count": 5,
   "metadata": {
    "deletable": false,
    "editable": false,
    "nbgrader": {
     "cell_type": "code",
     "checksum": "a78c7227b049bb147e6c363affb6dae8",
     "grade": false,
     "grade_id": "cell-0472e2fd710f1d72",
     "locked": true,
     "schema_version": 3,
     "solution": false,
     "task": false
    }
   },
   "outputs": [
    {
     "data": {
      "text/html": [
       "<script>if(\"create_project_notebook_structure.ipynb\" != IPython.notebook.notebook_name) { alert(\"You have filled in nb_fname = \\\"create_project_notebook_structure.ipynb\\\", but this does not seem to match the notebook filename \\\"\" + IPython.notebook.notebook_name + \"\\\".\"); }</script>"
      ],
      "text/plain": [
       "<IPython.core.display.HTML object>"
      ]
     },
     "metadata": {},
     "output_type": "display_data"
    }
   ],
   "source": [
    "from IPython.display import display, HTML\n",
    "try:\n",
    "    display(HTML(r'<script>if(\"{nb_fname}\" != IPython.notebook.notebook_name) {{ alert(\"You have filled in nb_fname = \\\"{nb_fname}\\\", but this does not seem to match the notebook filename \\\"\" + IPython.notebook.notebook_name + \"\\\".\"); }}</script>'.format(nb_fname=nb_fname)))\n",
    "except NameError:\n",
    "    assert False, 'Make sure to fill in the nb_fname variable above!'"
   ]
  },
  {
   "cell_type": "markdown",
   "metadata": {
    "deletable": false,
    "editable": false,
    "nbgrader": {
     "cell_type": "markdown",
     "checksum": "98d88d8e8da19693053764f29dcc591d",
     "grade": false,
     "grade_id": "cell-ceacb1adcae4783d",
     "locked": true,
     "schema_version": 3,
     "solution": false,
     "task": false
    }
   },
   "source": [
    "### Verify that your notebook is up-to-date and not corrupted in any way"
   ]
  },
  {
   "cell_type": "code",
   "execution_count": 6,
   "metadata": {
    "deletable": false,
    "editable": false,
    "nbgrader": {
     "cell_type": "code",
     "checksum": "bb700528d4644601c1a8c91ef1d84635",
     "grade": false,
     "grade_id": "cell-f5a59288e11b4aec",
     "locked": true,
     "schema_version": 3,
     "solution": false,
     "task": false
    }
   },
   "outputs": [
    {
     "ename": "ModuleNotFoundError",
     "evalue": "No module named 'ha_utils'",
     "output_type": "error",
     "traceback": [
      "\u001b[1;31m---------------------------------------------------------------------------\u001b[0m",
      "\u001b[1;31mModuleNotFoundError\u001b[0m                       Traceback (most recent call last)",
      "\u001b[1;32mc:\\Users\\Yogith\\OneDrive - Chalmers\\MSc System Controls & Mechatronics\\Study Period-5\\SSY340\\Project\\SemanticSegmentation\\create_project_notebook_structure.ipynb Cell 13\u001b[0m line \u001b[0;36m3\n\u001b[0;32m      <a href='vscode-notebook-cell:/c%3A/Users/Yogith/OneDrive%20-%20Chalmers/MSc%20System%20Controls%20%26%20Mechatronics/Study%20Period-5/SSY340/Project/SemanticSegmentation/create_project_notebook_structure.ipynb#X15sZmlsZQ%3D%3D?line=0'>1</a>\u001b[0m \u001b[39mimport\u001b[39;00m \u001b[39msys\u001b[39;00m\n\u001b[0;32m      <a href='vscode-notebook-cell:/c%3A/Users/Yogith/OneDrive%20-%20Chalmers/MSc%20System%20Controls%20%26%20Mechatronics/Study%20Period-5/SSY340/Project/SemanticSegmentation/create_project_notebook_structure.ipynb#X15sZmlsZQ%3D%3D?line=1'>2</a>\u001b[0m sys\u001b[39m.\u001b[39mpath\u001b[39m.\u001b[39mappend(\u001b[39m'\u001b[39m\u001b[39m..\u001b[39m\u001b[39m'\u001b[39m)\n\u001b[1;32m----> <a href='vscode-notebook-cell:/c%3A/Users/Yogith/OneDrive%20-%20Chalmers/MSc%20System%20Controls%20%26%20Mechatronics/Study%20Period-5/SSY340/Project/SemanticSegmentation/create_project_notebook_structure.ipynb#X15sZmlsZQ%3D%3D?line=2'>3</a>\u001b[0m \u001b[39mfrom\u001b[39;00m \u001b[39mha_utils\u001b[39;00m \u001b[39mimport\u001b[39;00m check_notebook_uptodate_and_not_corrupted\n\u001b[0;32m      <a href='vscode-notebook-cell:/c%3A/Users/Yogith/OneDrive%20-%20Chalmers/MSc%20System%20Controls%20%26%20Mechatronics/Study%20Period-5/SSY340/Project/SemanticSegmentation/create_project_notebook_structure.ipynb#X15sZmlsZQ%3D%3D?line=3'>4</a>\u001b[0m check_notebook_uptodate_and_not_corrupted(nb_dirname, nb_fname)\n",
      "\u001b[1;31mModuleNotFoundError\u001b[0m: No module named 'ha_utils'"
     ]
    }
   ],
   "source": [
    "import sys\n",
    "sys.path.append('..')\n",
    "from ha_utils import check_notebook_uptodate_and_not_corrupted\n",
    "check_notebook_uptodate_and_not_corrupted(nb_dirname, nb_fname)"
   ]
  },
  {
   "cell_type": "markdown",
   "metadata": {},
   "source": [
    "# Create the project structure"
   ]
  },
  {
   "cell_type": "markdown",
   "metadata": {},
   "source": [
    "This is a helper notebook to create the folder structure necessary for HA1.\n",
    "Start looking at `HA1.ipynb` and revisit this notebook when needed.\n",
    "\n",
    "This should be run from the same folder where the `dogs-vs-cats.zip` file you downloaded from Kaggle is."
   ]
  },
  {
   "cell_type": "code",
   "execution_count": 7,
   "metadata": {},
   "outputs": [
    {
     "name": "stderr",
     "output_type": "stream",
     "text": [
      "c:\\Users\\Yogith\\.conda\\envs\\dml\\lib\\site-packages\\scipy\\__init__.py:146: UserWarning: A NumPy version >=1.17.3 and <1.25.0 is required for this version of SciPy (detected version 1.25.2\n",
      "  warnings.warn(f\"A NumPy version >={np_minversion} and <{np_maxversion}\"\n"
     ]
    }
   ],
   "source": [
    "# For dealing with files we use the built-in python module `Path`\n",
    "# It provides a nice abstraction of the file system, compared to working with strings only.\n",
    "# It also makes your code more portable, i.e. easier to share with someone using another operating system.\n",
    "from pathlib import Path\n",
    "# Some file system operation are not covered by 'Path' and we use 'shutil' for that\n",
    "import shutil\n",
    "\n",
    "# Regular expressions are used to find patterns in strings\n",
    "import re\n",
    "\n",
    "# For splitting the data\n",
    "from sklearn.model_selection import train_test_split"
   ]
  },
  {
   "cell_type": "code",
   "execution_count": 15,
   "metadata": {},
   "outputs": [],
   "source": [
    "# NOTE: This script assumes that you have the `dogs-vs-cats.zip` in the same directory as this notebook\n",
    "zip_file = Path.cwd() / \"dogs-vs-cats.zip\"\n",
    "if not zip_file.exists():\n",
    "    raise FileNotFoundError(\"Download and place `{}` in the current directory (`{}`)\"\n",
    "                            .format(zip_file.name, Path.cwd()))\n",
    "\n",
    "# This is a list of all the directories and files this notebook will produce.\n",
    "# If you have run this before, we will delete them and start over from `dogs-vs-cats.zip`\n",
    "# Notice how we use the `map` function to conveniently run `Path(<filename>)` on all strings in our list,\n",
    "# to turn them in portable filepaths.\n",
    "pre_existing_items = map(Path, [\"test1.zip\",\n",
    "                     \"test\",\n",
    "                     \"val\",\n",
    "                     \"train.zip\",\n",
    "                     \"train\",\n",
    "                     \"train_all\",\n",
    "                     \"sampleSubmission.csv\",\n",
    "                     \"small_train\",\n",
    "                     \"small_val\"\n",
    "                     ])\n",
    "\n",
    "for item in pre_existing_items:\n",
    "    if item.exists():\n",
    "        # We need to use different functions for files and directories.\n",
    "        if item.is_dir():\n",
    "            shutil.rmtree(item)\n",
    "        elif item.is_file():\n",
    "            item.unlink()\n",
    "        else:\n",
    "            print(\"Unknown item: {}, remove manually\".format(item))\n",
    "\n",
    "\n",
    "# Depending on your machine the following might take some seconds to run\n",
    "shutil.unpack_archive('dogs-vs-cats.zip')\n",
    "shutil.unpack_archive('test1.zip')\n",
    "shutil.unpack_archive('train.zip')\n",
    "\n",
    "Path(\"test1\").rename(\"test\")\n",
    "Path(\"train\").rename(\"train_all\")\n",
    "\n",
    "\n",
    "# Remove sub zip filess\n",
    "Path(\"test1.zip\").unlink()\n",
    "Path(\"train.zip\").unlink()\n",
    "\n",
    "# Take a look at your current directory. Apart from notebook files (those ending in *.ipynb) you should see\n",
    "# dogs-vs-cats.zip\n",
    "# sampleSubmission.csv\n",
    "# test\n",
    "# train_all"
   ]
  },
  {
   "cell_type": "markdown",
   "metadata": {},
   "source": [
    "Now we'll examine the data inside the directory `train_all`.\n",
    "It contains files like this:\n",
    "\n",
    "```\n",
    "<id>.jpg\n",
    "<id>.jpg\n",
    "```\n",
    "where each id is on the from `<label>.<number>`, e.g. `cat.123`.\n",
    "\n",
    "Inside the directory `test` are unlabelled images\n",
    "\n",
    "```\n",
    "<id>.jpg\n",
    "```\n",
    "where each id is a single number.\n",
    "\n",
    "Predictions on these unknown images is what you would submit to participate in the contest.\n",
    "\n",
    "Let's count them separately."
   ]
  },
  {
   "cell_type": "code",
   "execution_count": 16,
   "metadata": {},
   "outputs": [
    {
     "name": "stdout",
     "output_type": "stream",
     "text": [
      "Found 12500 images of cats.\n",
      "Found 12500 images of dogs.\n",
      "Found 12500 test images\n"
     ]
    }
   ],
   "source": [
    "\n",
    "train_all_path = Path.cwd() / \"train_all\"\n",
    "\n",
    "# Get a list of all filenames inside (these will be used for training and validation)\n",
    "# The asterisk '*' is a so called wildcard, i.e. we tell the `glob` method to find any cat/dog images,\n",
    "# regardless of their id.\n",
    "all_cat_filenames = list(train_all_path.glob(\"cat.*.jpg\"))\n",
    "all_dog_filenames = list(train_all_path.glob(\"dog.*.jpg\"))\n",
    "\n",
    "test_path = Path.cwd() / \"test\"\n",
    "all_test_filenames = list(test_path.glob(\"*.jpg\"))\n",
    "print(f\"Found {len(all_cat_filenames)} images of cats.\\nFound {len(all_dog_filenames)} images of dogs.\\nFound {len(all_test_filenames)} test images\")"
   ]
  },
  {
   "cell_type": "markdown",
   "metadata": {},
   "source": [
    "We'll create `'small_train'` and `'small_val'` folders for a smaller subset of the original dataset (the assignment asks for 20%)."
   ]
  },
  {
   "cell_type": "code",
   "execution_count": 17,
   "metadata": {},
   "outputs": [],
   "source": [
    "# Get a subset of the entire training dataset (20%)\n",
    "_, few_cat_filenames, _, few_dog_filenames = train_test_split(all_cat_filenames, \n",
    "                                                              all_dog_filenames, \n",
    "                                                              test_size=0.2, random_state=1)"
   ]
  },
  {
   "cell_type": "code",
   "execution_count": 18,
   "metadata": {},
   "outputs": [
    {
     "name": "stdout",
     "output_type": "stream",
     "text": [
      "The smaller dataset will be comprised of:\n",
      "Training:\t1750 cats and 1750 dogs\n",
      "Validation:\t750 cats and 750 dogs\n"
     ]
    }
   ],
   "source": [
    "# Split it into training and validation sets\n",
    "split_ratio_small_dataset = 0.3\n",
    "\n",
    "few_cat_filenames_train, few_cat_filenames_val, few_dog_filenames_train, few_dog_filenames_val = \\\n",
    "train_test_split(few_cat_filenames, \n",
    "              few_dog_filenames, \n",
    "              test_size = split_ratio_small_dataset,\n",
    "              random_state = 2)\n",
    "\n",
    "print(\"The smaller dataset will be comprised of:\")\n",
    "print(f\"Training:\\t{len(few_cat_filenames_train)} cats and {len(few_dog_filenames_train)} dogs\")\n",
    "print(f\"Validation:\\t{len(few_cat_filenames_val)} cats and {len(few_dog_filenames_val)} dogs\")"
   ]
  },
  {
   "cell_type": "code",
   "execution_count": 19,
   "metadata": {},
   "outputs": [],
   "source": [
    "# Create the train and val directories and subdirectories\n",
    "subdirectories = {\"small_train/cats\": few_cat_filenames_train,\n",
    "                  \"small_train/dogs\": few_dog_filenames_train,\n",
    "                  \"small_val/cats\": few_cat_filenames_val,\n",
    "                  \"small_val/dogs\": few_dog_filenames_val\n",
    "                 }\n",
    "\n",
    "for subdirectory in subdirectories.keys():\n",
    "    subdirectory = Path(subdirectory)\n",
    "    subdirectory.mkdir(parents=True, exist_ok=True)\n",
    "\n",
    "# Put the training and validation data in the respective folders\n",
    "def fill_sub_dir(sub_dir, file_subset):\n",
    "    \"\"\"This function copies files from the `train_all` to a `<sub_dir>`\n",
    "    A more efficient solution would be to use \"symbolic links\" (see https://kb.iu.edu/d/abbe)\n",
    "    but for simplicity hard copies is used instead.\n",
    "    \"\"\"\n",
    "    for file in file_subset:\n",
    "        file_path = Path.cwd() / sub_dir / file.name\n",
    "        shutil.copyfile(file, file_path)\n",
    "        \n",
    "for sub_dir, file_subset in subdirectories.items():\n",
    "    fill_sub_dir(sub_dir, file_subset)"
   ]
  },
  {
   "cell_type": "markdown",
   "metadata": {},
   "source": [
    "Now we create the `val` and `train` folders for the entire dataset. You need to specify the train/val split (to something reasonable)."
   ]
  },
  {
   "cell_type": "code",
   "execution_count": 20,
   "metadata": {},
   "outputs": [
    {
     "name": "stdout",
     "output_type": "stream",
     "text": [
      "The full dataset will be comprised of:\n",
      "Train:\t10000 cats and 10000 dogs.\n",
      "Val:\t2500 cats and 2500 dogs\n"
     ]
    }
   ],
   "source": [
    "split_ratio_big_dataset = 0.2\n",
    "\n",
    "if split_ratio_big_dataset is None:\n",
    "    raise ValueError(\"`split_ratio_big_dataset` must have a value between 0 and 1.\")\n",
    "\n",
    "# Split it\n",
    "all_cat_filenames_train, all_cat_filenames_val, all_dog_filenames_train, all_dog_filenames_val = \\\n",
    "train_test_split(all_cat_filenames,\n",
    "                 all_dog_filenames,\n",
    "                 test_size=split_ratio_big_dataset,\n",
    "                 random_state=3)\n",
    "\n",
    "print(\"The full dataset will be comprised of:\")\n",
    "print(f\"Train:\\t{len(all_cat_filenames_train)} cats and {len(all_dog_filenames_train)} dogs.\")\n",
    "print(f\"Val:\\t{len(all_cat_filenames_val)} cats and {len(all_dog_filenames_val)} dogs\")"
   ]
  },
  {
   "cell_type": "code",
   "execution_count": null,
   "metadata": {},
   "outputs": [],
   "source": [
    "# Create the train and val directories and subdirectories\n",
    "subdirectories = {\"train/cats\": all_cat_filenames_train,\n",
    "                 \"train/dogs\": all_dog_filenames_train,\n",
    "                 \"val/cats\": all_cat_filenames_val,\n",
    "                 \"val/dogs\": all_dog_filenames_val\n",
    "                 }\n",
    "\n",
    "for subdirectory in subdirectories.keys():\n",
    "    subdirectory = Path(subdirectory)\n",
    "    subdirectory.mkdir(parents=True, exist_ok=True)\n",
    "\n",
    "for sub_dir, file_subset in subdirectories.items():\n",
    "    fill_sub_dir(sub_dir, file_subset)"
   ]
  }
 ],
 "metadata": {
  "kernelspec": {
   "display_name": "Python 3",
   "language": "python",
   "name": "python3"
  },
  "language_info": {
   "codemirror_mode": {
    "name": "ipython",
    "version": 3
   },
   "file_extension": ".py",
   "mimetype": "text/x-python",
   "name": "python",
   "nbconvert_exporter": "python",
   "pygments_lexer": "ipython3",
   "version": "3.9.7"
  }
 },
 "nbformat": 4,
 "nbformat_minor": 2
}
